{
 "cells": [
  {
   "cell_type": "markdown",
   "id": "5911442c-7f77-4da9-9f64-cd5398bad370",
   "metadata": {},
   "source": [
    "# Tarea 1\n",
    "## *Graficar la siguiente fUNCION*\n",
    "\n",
    "### realizador por: *Correa Adrian*"
   ]
  },
  {
   "cell_type": "markdown",
   "id": "ba589ff3-8e7d-451d-9ed3-62a6501bd14f",
   "metadata": {},
   "source": [
    "## $f(x) = x^3 - 7x + 4x^2  + 12$\n",
    "\n",
    "## Tabla\n",
    "\n",
    "|n |x |y |\n",
    "|--|--|--|\n",
    "|0 |-5|22 |\n",
    "|1|-4|40 |\n",
    "|2 |-3 |42 |\n",
    "|3 |-2 |34 |\n",
    "|4|-1|22 |\n",
    "|5 |0 |12 |\n",
    "|6 |1 |10 |\n",
    "|7|2|22 |\n",
    "|8 |3 |54 |\n",
    "|9 |4 |112 |\n",
    "|10|5|202 |\n",
    "\n",
    "  |\r"
   ]
  },
  {
   "cell_type": "code",
   "execution_count": 101,
   "id": "47901ae7-6d0a-49c2-890b-a5737256c943",
   "metadata": {},
   "outputs": [
    {
     "data": {
      "image/png": "[encoded data removed]",
      "text/plain": [
       "<Figure size 640x480 with 1 Axes>"
      ]
     },
     "metadata": {},
     "output_type": "display_data"
    }
   ],
   "source": [
    "import numpy as np\n",
    "import matplotlib.pyplot as plt\n",
    "\n",
    "# Definir la función\n",
    "def f(x):\n",
    "    return x**3 - 7*x + 4*x**2 + 12\n",
    "\n",
    "# Encontrar las raíces de la función\n",
    "coeficientes = [1, 4, -7, 12]  # Coeficientes del polinomio\n",
    "raices = np.roots(coeficientes)  # Calcula las raíces del polinomio\n",
    "\n",
    "# Creamos un rango de valores para x\n",
    "x = np.linspace(-5, 5, 50)  # Rango de -5 a 5 con 50 puntos\n",
    "\n",
    "# Calcular los valores de f(x)\n",
    "y = f(x)\n",
    "\n",
    "# Graficar\n",
    "plt.plot(x, y, label=r\"$f(x) = x^3 - 7x + 4x^2 + 12$\", color=\"blue\")  # Grafica x contra y, asignando color azul y añadiendo una etiqueta de la función.\n",
    "\n",
    "# Marcar las raíces en el gráfico\n",
    "for raiz in raices:\n",
    "    if np.isreal(raiz):  # Solo graficar si la raíz es un número real\n",
    "        plt.plot(raiz.real, 0, 'ro')  # Marcar las raíces en el gráfico en rojo\n",
    "        plt.text(raiz.real, 0, f'{raiz.real:.2f}', color=\"red\", ha='center', va='bottom')  # Añadir etiquetas\n",
    "\n",
    "# Ajustar los límites para hacer zoom\n",
    "plt.xlim(-5, 5)  # Ajustar el rango de x para hacer zoom en la región de interés\n",
    "plt.ylim(-50, 50)  # Ajustar el rango de y para hacer zoom en la región de interés\n",
    "\n",
    "# Configuración del gráfico\n",
    "plt.xlabel(\"x\")  # Etiqueta para el eje x.\n",
    "plt.ylabel(\"f(x)\")  # Etiqueta para el eje y.\n",
    "plt.title(\"Gráfica de la función $f(x) = x^3 - 7x + 4x^2 + 12$\")  # Título del gráfico.\n",
    "plt.axhline(0, color=\"black\", linewidth=0.5)  # Dibuja la línea horizontal del eje y=0 en negro.\n",
    "plt.axvline(0, color=\"black\", linewidth=0.5)  # Dibuja la línea vertical del eje x=0 en negro.\n",
    "plt.grid(True)  # Activa la cuadrícula para facilitar la lectura del gráfico.\n",
    "plt.legend()  # Muestra la leyenda con la etiqueta de la función.\n",
    "plt.show()  # Muestra el gráfico en pantalla.\n"
   ]
  },
  {
   "cell_type": "code",
   "execution_count": 93,
   "id": "44fd0cf4-2f64-4e8a-9795-bb1ae87ef598",
   "metadata": {},
   "outputs": [
    {
     "data": {
      "text/plain": [
       "50"
      ]
     },
     "execution_count": 93,
     "metadata": {},
     "output_type": "execute_result"
    }
   ],
   "source": [
    "len(x) # numero de datos"
   ]
  },
  {
   "cell_type": "code",
   "execution_count": 109,
   "id": "829a05c2-fef2-48ff-be60-176c1bcce639",
   "metadata": {},
   "outputs": [
    {
     "name": "stdout",
     "output_type": "stream",
     "text": [
      "Puntos (x, f(x)):\n",
      "x: -5.00, f(x): 22.00\n",
      "x: -4.80, f(x): 27.26\n",
      "x: -4.59, f(x): 31.66\n",
      "x: -4.39, f(x): 35.25\n",
      "x: -4.18, f(x): 38.07\n",
      "x: -3.98, f(x): 40.18\n",
      "x: -3.78, f(x): 41.63\n",
      "x: -3.57, f(x): 42.47\n",
      "x: -3.37, f(x): 42.75\n",
      "x: -3.16, f(x): 42.52\n",
      "x: -2.96, f(x): 41.83\n",
      "x: -2.76, f(x): 40.74\n",
      "x: -2.55, f(x): 39.29\n",
      "x: -2.35, f(x): 37.53\n",
      "x: -2.14, f(x): 35.53\n",
      "x: -1.94, f(x): 33.32\n",
      "x: -1.73, f(x): 30.96\n",
      "x: -1.53, f(x): 28.50\n",
      "x: -1.33, f(x): 25.99\n",
      "x: -1.12, f(x): 23.48\n",
      "x: -0.92, f(x): 21.03\n",
      "x: -0.71, f(x): 18.68\n",
      "x: -0.51, f(x): 16.48\n",
      "x: -0.31, f(x): 14.49\n",
      "x: -0.10, f(x): 12.75\n",
      "x: 0.10, f(x): 11.33\n",
      "x: 0.31, f(x): 10.26\n",
      "x: 0.51, f(x): 9.60\n",
      "x: 0.71, f(x): 9.41\n",
      "x: 0.92, f(x): 9.72\n",
      "x: 1.12, f(x): 10.60\n",
      "x: 1.33, f(x): 12.09\n",
      "x: 1.53, f(x): 14.24\n",
      "x: 1.73, f(x): 17.11\n",
      "x: 1.94, f(x): 20.75\n",
      "x: 2.14, f(x): 25.21\n",
      "x: 2.35, f(x): 30.53\n",
      "x: 2.55, f(x): 36.77\n",
      "x: 2.76, f(x): 43.99\n",
      "x: 2.96, f(x): 52.23\n",
      "x: 3.16, f(x): 61.53\n",
      "x: 3.37, f(x): 71.97\n",
      "x: 3.57, f(x): 83.57\n",
      "x: 3.78, f(x): 96.41\n",
      "x: 3.98, f(x): 110.52\n",
      "x: 4.18, f(x): 125.95\n",
      "x: 4.39, f(x): 142.77\n",
      "x: 4.59, f(x): 161.02\n",
      "x: 4.80, f(x): 180.74\n",
      "x: 5.00, f(x): 202.00\n"
     ]
    }
   ],
   "source": [
    "# Imprimir todos los puntos (x, f(x))\n",
    "print(\"Puntos (x, f(x)):\")\n",
    "for xi, yi in zip(x, y):\n",
    "    print(f\"x: {xi:.2f}, f(x): {yi:.2f}\")"
   ]
  }
 ],
 "metadata": {
  "kernelspec": {
   "display_name": "Python 3 (ipykernel)",
   "language": "python",
   "name": "python3"
  },
  "language_info": {
   "codemirror_mode": {
    "name": "ipython",
    "version": 3
   },
   "file_extension": ".py",
   "mimetype": "text/x-python",
   "name": "python",
   "nbconvert_exporter": "python",
   "pygments_lexer": "ipython3",
   "version": "3.12.4"
  }
 },
 "nbformat": 4,
 "nbformat_minor": 5
}
